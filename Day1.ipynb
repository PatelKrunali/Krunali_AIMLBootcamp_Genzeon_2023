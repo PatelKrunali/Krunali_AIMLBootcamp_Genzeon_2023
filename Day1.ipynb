{
  "nbformat": 4,
  "nbformat_minor": 0,
  "metadata": {
    "colab": {
      "provenance": [],
      "authorship_tag": "ABX9TyOmrIN6zIPSGnfK27pXGarS",
      "include_colab_link": true
    },
    "kernelspec": {
      "name": "python3",
      "display_name": "Python 3"
    },
    "language_info": {
      "name": "python"
    }
  },
  "cells": [
    {
      "cell_type": "markdown",
      "metadata": {
        "id": "view-in-github",
        "colab_type": "text"
      },
      "source": [
        "<a href=\"https://colab.research.google.com/github/PatelKrunali/Krunali_AIMLBootcamp_Genzeon_2023/blob/main/Day1.ipynb\" target=\"_parent\"><img src=\"https://colab.research.google.com/assets/colab-badge.svg\" alt=\"Open In Colab\"/></a>"
      ]
    },
    {
      "cell_type": "code",
      "execution_count": 1,
      "metadata": {
        "colab": {
          "base_uri": "https://localhost:8080/"
        },
        "id": "QiWXeyR5bevb",
        "outputId": "e497855d-4b9d-43fc-ac47-9072f251e90e"
      },
      "outputs": [
        {
          "output_type": "stream",
          "name": "stdout",
          "text": [
            "Hello\n"
          ]
        }
      ],
      "source": [
        "print(\"Hello\")"
      ]
    },
    {
      "cell_type": "code",
      "source": [
        "a=10\n",
        "b=2+3j\n",
        "print(a)\n",
        "print(b.real)\n",
        "print(b.imag)\n",
        "c=complex(10,20)\n",
        "print(c)"
      ],
      "metadata": {
        "colab": {
          "base_uri": "https://localhost:8080/"
        },
        "id": "7oH6dcGockkX",
        "outputId": "03d94331-1cbb-4dbe-8f5e-6a772f9f20f8"
      },
      "execution_count": 3,
      "outputs": [
        {
          "output_type": "stream",
          "name": "stdout",
          "text": [
            "10\n",
            "2.0\n",
            "3.0\n",
            "(10+20j)\n"
          ]
        }
      ]
    },
    {
      "cell_type": "code",
      "source": [
        "GCorevalues=[\"HumanConnections\",\"Empowerment\",\"accountability\"]\n",
        "print(GCorevalues)"
      ],
      "metadata": {
        "colab": {
          "base_uri": "https://localhost:8080/"
        },
        "id": "EFyXkYejfx3p",
        "outputId": "23b5dddc-413d-4ba6-db7b-df0c776c7a90"
      },
      "execution_count": 4,
      "outputs": [
        {
          "output_type": "stream",
          "name": "stdout",
          "text": [
            "['HumanConnections', 'Empowerment', 'accountability']\n"
          ]
        }
      ]
    },
    {
      "cell_type": "code",
      "source": [
        "Employees={\"name\":\"Krunali\",\"ID\":\"001\"}\n",
        "print(Employees)"
      ],
      "metadata": {
        "colab": {
          "base_uri": "https://localhost:8080/"
        },
        "id": "ArVohYMQgKds",
        "outputId": "0af60a03-790c-4750-9cfb-4e6397b48771"
      },
      "execution_count": 5,
      "outputs": [
        {
          "output_type": "stream",
          "name": "stdout",
          "text": [
            "{'name': 'Krunali', 'ID': '001'}\n"
          ]
        }
      ]
    },
    {
      "cell_type": "code",
      "source": [
        "set1={\"Good\",\"Evening\",\"Good\"}\n",
        "print(set1)\n",
        "type(set1)\n"
      ],
      "metadata": {
        "colab": {
          "base_uri": "https://localhost:8080/"
        },
        "id": "iWSUIByggeXH",
        "outputId": "ee0a6e56-11ac-4101-f77b-d4438e84aab4"
      },
      "execution_count": 9,
      "outputs": [
        {
          "output_type": "stream",
          "name": "stdout",
          "text": [
            "{'Evening', 'Good'}\n"
          ]
        },
        {
          "output_type": "execute_result",
          "data": {
            "text/plain": [
              "set"
            ]
          },
          "metadata": {},
          "execution_count": 9
        }
      ]
    },
    {
      "cell_type": "code",
      "source": [
        "x=\"hello\"\n",
        "print(bool(x))\n",
        "y=0\n",
        "print(bool(y))"
      ],
      "metadata": {
        "colab": {
          "base_uri": "https://localhost:8080/"
        },
        "id": "Hl4urlUVg8Az",
        "outputId": "09f718d2-dd76-45ef-dd7f-c2d09087ebcd"
      },
      "execution_count": 7,
      "outputs": [
        {
          "output_type": "stream",
          "name": "stdout",
          "text": [
            "True\n",
            "False\n"
          ]
        }
      ]
    },
    {
      "cell_type": "code",
      "source": [
        "print(bool(False))\n",
        "print(bool(None))\n",
        "print(bool(0))\n",
        "print(bool(\"\"))\n",
        "print(bool(()))\n",
        "print(bool([]))\n",
        "print(bool({}))"
      ],
      "metadata": {
        "colab": {
          "base_uri": "https://localhost:8080/"
        },
        "id": "D0K-q-V9huXv",
        "outputId": "417655c4-f355-42ba-f7a7-ffb1670b68ea"
      },
      "execution_count": 8,
      "outputs": [
        {
          "output_type": "stream",
          "name": "stdout",
          "text": [
            "False\n",
            "False\n",
            "False\n",
            "False\n",
            "False\n",
            "False\n",
            "False\n"
          ]
        }
      ]
    },
    {
      "cell_type": "code",
      "source": [
        "\n",
        "#explicit\n",
        "a=3\n",
        "b=4.0\n",
        "c=float(a)\n",
        "d=int(b)\n",
        "print(c,d)"
      ],
      "metadata": {
        "colab": {
          "base_uri": "https://localhost:8080/"
        },
        "id": "-KHNNf4AiQ9T",
        "outputId": "25f89933-5606-4a0b-9ea5-0ab95a305981"
      },
      "execution_count": 10,
      "outputs": [
        {
          "output_type": "stream",
          "name": "stdout",
          "text": [
            "3.0 4\n"
          ]
        }
      ]
    },
    {
      "cell_type": "code",
      "source": [
        "#implicit\n",
        "e=a+b\n",
        "print(e)"
      ],
      "metadata": {
        "colab": {
          "base_uri": "https://localhost:8080/"
        },
        "id": "UPIkFrIriluL",
        "outputId": "acb5ff79-f68a-4d2d-b957-d9e3cf1a9e70"
      },
      "execution_count": 11,
      "outputs": [
        {
          "output_type": "stream",
          "name": "stdout",
          "text": [
            "7.0\n"
          ]
        }
      ]
    },
    {
      "cell_type": "code",
      "source": [
        "a=10\n",
        "b=20\n",
        "print(a+b)\n",
        "print(a-b)\n",
        "print(a*b)\n",
        "print(a/b) # will give float answer \n",
        "print(a%b)\n",
        "print(a//b) # will give int answer\n",
        "print(a**b) #power"
      ],
      "metadata": {
        "colab": {
          "base_uri": "https://localhost:8080/"
        },
        "id": "6sgj5bcxin6o",
        "outputId": "b8adf05c-04e8-481d-8488-6f5484450f74"
      },
      "execution_count": 12,
      "outputs": [
        {
          "output_type": "stream",
          "name": "stdout",
          "text": [
            "30\n",
            "-10\n",
            "200\n",
            "0.5\n",
            "10\n",
            "0\n",
            "100000000000000000000\n"
          ]
        }
      ]
    },
    {
      "cell_type": "code",
      "source": [
        "# comparison operator \n",
        "a=10\n",
        "b=20\n",
        "print(a==b)\n",
        "print(a!=b)\n",
        "print(a>b)\n",
        "print(a<b)\n",
        "print(a>=b)\n",
        "print(a<=b)"
      ],
      "metadata": {
        "colab": {
          "base_uri": "https://localhost:8080/"
        },
        "id": "2NeI3aNLi46M",
        "outputId": "2a61dba5-6a08-4ee1-fddd-e3c48963a6d5"
      },
      "execution_count": 13,
      "outputs": [
        {
          "output_type": "stream",
          "name": "stdout",
          "text": [
            "False\n",
            "True\n",
            "False\n",
            "True\n",
            "False\n",
            "True\n"
          ]
        }
      ]
    },
    {
      "cell_type": "code",
      "source": [
        "#assignment operator\n",
        "c=a+b\n",
        "c+=a\n",
        "c-+a\n",
        "c*=a\n",
        "c/=a\n",
        "c%=a\n",
        "c**=a"
      ],
      "metadata": {
        "id": "vB6nZfM5jTEH"
      },
      "execution_count": null,
      "outputs": []
    },
    {
      "cell_type": "code",
      "source": [
        "x=True\n",
        "y=False\n",
        "print(\"x and y is\", x and y)\n",
        "print(\"x or y is\", x or y)\n",
        "print(\"x not is\", not x)"
      ],
      "metadata": {
        "colab": {
          "base_uri": "https://localhost:8080/"
        },
        "id": "LFXFAW02jWt-",
        "outputId": "5ae59b8b-8de9-4acb-acd5-8a7691766776"
      },
      "execution_count": 14,
      "outputs": [
        {
          "output_type": "stream",
          "name": "stdout",
          "text": [
            "x and y is False\n",
            "x or y is True\n",
            "x not is False\n"
          ]
        }
      ]
    },
    {
      "cell_type": "code",
      "source": [
        "a=11\n",
        "b=12\n",
        "print(a&b)\n",
        "print(a|b)\n",
        "print(a^b)\n",
        "print(~a)#Not\n",
        "print(a>>2)\n",
        "print(a<<2)"
      ],
      "metadata": {
        "colab": {
          "base_uri": "https://localhost:8080/"
        },
        "id": "fMOOOrj9jduW",
        "outputId": "29a01522-c17e-47ce-a3a2-6f82afe01793"
      },
      "execution_count": 16,
      "outputs": [
        {
          "output_type": "stream",
          "name": "stdout",
          "text": [
            "8\n",
            "15\n",
            "7\n",
            "-12\n",
            "2\n",
            "44\n"
          ]
        }
      ]
    },
    {
      "cell_type": "code",
      "source": [
        "x=\"hello world\"\n",
        "y={1:'a',2:'b'}\n",
        "print(y)"
      ],
      "metadata": {
        "colab": {
          "base_uri": "https://localhost:8080/"
        },
        "id": "nzAJBwvIjzTj",
        "outputId": "3a10ce51-c3e2-4990-9a9b-9806758ab6c8"
      },
      "execution_count": 17,
      "outputs": [
        {
          "output_type": "stream",
          "name": "stdout",
          "text": [
            "{1: 'a', 2: 'b'}\n"
          ]
        }
      ]
    },
    {
      "cell_type": "code",
      "source": [
        "print('H' in x)"
      ],
      "metadata": {
        "colab": {
          "base_uri": "https://localhost:8080/"
        },
        "id": "L-LpNAAckBtY",
        "outputId": "b5c6d9e0-ad2d-481a-c730-d0782a834c4d"
      },
      "execution_count": 18,
      "outputs": [
        {
          "output_type": "stream",
          "name": "stdout",
          "text": [
            "False\n"
          ]
        }
      ]
    },
    {
      "cell_type": "code",
      "source": [
        "print(1 in y)"
      ],
      "metadata": {
        "colab": {
          "base_uri": "https://localhost:8080/"
        },
        "id": "lPwO9u94kI1d",
        "outputId": "3943e6d1-b052-4050-fb01-0391912e849b"
      },
      "execution_count": 19,
      "outputs": [
        {
          "output_type": "stream",
          "name": "stdout",
          "text": [
            "True\n"
          ]
        }
      ]
    },
    {
      "cell_type": "code",
      "source": [
        "print('a' in y)"
      ],
      "metadata": {
        "colab": {
          "base_uri": "https://localhost:8080/"
        },
        "id": "l1E2laD7kMAj",
        "outputId": "f220f914-bc57-4a7f-f082-0c8c755218e8"
      },
      "execution_count": 20,
      "outputs": [
        {
          "output_type": "stream",
          "name": "stdout",
          "text": [
            "False\n"
          ]
        }
      ]
    },
    {
      "cell_type": "code",
      "source": [
        "# Identity operators\n",
        "x1=5\n",
        "y1=5\n",
        "x2=\"Hello\"\n",
        "y2=\"Hello\"\n",
        "x3=[1,2,3]\n",
        "y3=[1,2,3]\n",
        "print(x1 is not y1)\n",
        "print(x2 is y2)\n",
        "print(x3 is y3) "
      ],
      "metadata": {
        "colab": {
          "base_uri": "https://localhost:8080/"
        },
        "id": "ofGZPEH6keBB",
        "outputId": "a775f584-8492-49e6-8e3f-f42ca87dd5c9"
      },
      "execution_count": 35,
      "outputs": [
        {
          "output_type": "stream",
          "name": "stdout",
          "text": [
            "False\n",
            "True\n",
            "False\n"
          ]
        }
      ]
    },
    {
      "cell_type": "code",
      "source": [
        "a=\"hi\"\n",
        "b=\"world\"\n",
        "print(a+b)\n",
        "print(a*2)"
      ],
      "metadata": {
        "colab": {
          "base_uri": "https://localhost:8080/"
        },
        "id": "Wp2OtGULkpKM",
        "outputId": "642e9661-2168-424d-b0dc-05d7520d918e"
      },
      "execution_count": 22,
      "outputs": [
        {
          "output_type": "stream",
          "name": "stdout",
          "text": [
            "hiworld\n",
            "hihi\n"
          ]
        }
      ]
    },
    {
      "cell_type": "code",
      "source": [
        "my_str=\"We are learning python at Genzeon\"\n",
        "print(my_str.upper())\n",
        "print(my_str.lower())\n",
        "print(my_str.title())\n",
        "print(my_str.swapcase())\n",
        "print(my_str.capitalize())\n",
        "print(my_str.lstrip())\n",
        "print(my_str.rstrip())\n",
        "print(my_str.strip())"
      ],
      "metadata": {
        "colab": {
          "base_uri": "https://localhost:8080/"
        },
        "id": "5L7ChGtTkw5a",
        "outputId": "3cdffbbd-dab2-4ba8-8de1-966e28918b7a"
      },
      "execution_count": 23,
      "outputs": [
        {
          "output_type": "stream",
          "name": "stdout",
          "text": [
            "WE ARE LEARNING PYTHON AT GENZEON\n",
            "we are learning python at genzeon\n",
            "We Are Learning Python At Genzeon\n",
            "wE ARE LEARNING PYTHON AT gENZEON\n",
            "We are learning python at genzeon\n",
            "We are learning python at Genzeon\n",
            "We are learning python at Genzeon\n",
            "We are learning python at Genzeon\n"
          ]
        }
      ]
    },
    {
      "cell_type": "code",
      "source": [
        "list=[1,2,3,4]\n",
        "my_list=[1,\"hello\",3,4]\n",
        "nest_list=[5,6,my_list,list]\n",
        "print(list)\n",
        "print(my_list)\n",
        "print(nest_list)"
      ],
      "metadata": {
        "colab": {
          "base_uri": "https://localhost:8080/"
        },
        "id": "Vxo-38zvlEJ9",
        "outputId": "b6f48e1c-b6db-472d-acfd-c800a9256e29"
      },
      "execution_count": 24,
      "outputs": [
        {
          "output_type": "stream",
          "name": "stdout",
          "text": [
            "[1, 2, 3, 4]\n",
            "[1, 'hello', 3, 4]\n",
            "[5, 6, [1, 'hello', 3, 4], [1, 2, 3, 4]]\n"
          ]
        }
      ]
    },
    {
      "cell_type": "code",
      "source": [
        "print(nest_list[2][1][1:4])"
      ],
      "metadata": {
        "colab": {
          "base_uri": "https://localhost:8080/"
        },
        "id": "hqNy0ukFlKry",
        "outputId": "826b0cc4-6c6a-470f-cd2f-2a95b3b8871c"
      },
      "execution_count": 25,
      "outputs": [
        {
          "output_type": "stream",
          "name": "stdout",
          "text": [
            "ell\n"
          ]
        }
      ]
    },
    {
      "cell_type": "code",
      "source": [
        "flowers=[\"rose\",\"lily\",\"marigold\",\"orchids\"]\n",
        "print(flowers)\n",
        "flowers.append(\"mogra\")\n",
        "print(flowers)\n",
        "flowers.insert(2,\"lotus\")\n",
        "print(flowers)\n",
        "flowers.remove(\"lily\")\n",
        "print(flowers)\n",
        "flowers.reverse()\n",
        "print(flowers)"
      ],
      "metadata": {
        "colab": {
          "base_uri": "https://localhost:8080/"
        },
        "id": "W5S1lYE7lTi2",
        "outputId": "dd8d8ed8-d9f8-40e5-d37b-cc3625913a77"
      },
      "execution_count": 32,
      "outputs": [
        {
          "output_type": "stream",
          "name": "stdout",
          "text": [
            "['rose', 'lily', 'marigold', 'orchids']\n",
            "['rose', 'lily', 'marigold', 'orchids', 'mogra']\n",
            "['rose', 'lily', 'lotus', 'marigold', 'orchids', 'mogra']\n",
            "['rose', 'lotus', 'marigold', 'orchids', 'mogra']\n",
            "['mogra', 'orchids', 'marigold', 'lotus', 'rose']\n"
          ]
        }
      ]
    },
    {
      "cell_type": "code",
      "source": [
        "num=[10,12,4,56,9,4,7,6,44]\n",
        "print(min(num))\n",
        "print(max(num))\n",
        "print(sorted(num))\n",
        "print(sum(num))\n",
        "print(sum(num[:4]))"
      ],
      "metadata": {
        "colab": {
          "base_uri": "https://localhost:8080/"
        },
        "id": "friSEGL1mkOm",
        "outputId": "bfa9bfd3-0d1e-4e92-85b3-7b66de775fc8"
      },
      "execution_count": 34,
      "outputs": [
        {
          "output_type": "stream",
          "name": "stdout",
          "text": [
            "4\n",
            "56\n",
            "[4, 4, 6, 7, 9, 10, 12, 44, 56]\n",
            "152\n",
            "82\n"
          ]
        }
      ]
    }
  ]
}